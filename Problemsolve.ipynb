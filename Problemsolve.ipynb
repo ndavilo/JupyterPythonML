{
 "cells": [
  {
   "cell_type": "code",
   "execution_count": 154,
   "id": "50812754",
   "metadata": {},
   "outputs": [
    {
     "data": {
      "text/html": [
       "<div>\n",
       "<style scoped>\n",
       "    .dataframe tbody tr th:only-of-type {\n",
       "        vertical-align: middle;\n",
       "    }\n",
       "\n",
       "    .dataframe tbody tr th {\n",
       "        vertical-align: top;\n",
       "    }\n",
       "\n",
       "    .dataframe thead th {\n",
       "        text-align: right;\n",
       "    }\n",
       "</style>\n",
       "<table border=\"1\" class=\"dataframe\">\n",
       "  <thead>\n",
       "    <tr style=\"text-align: right;\">\n",
       "      <th></th>\n",
       "      <th>temp</th>\n",
       "      <th>rain</th>\n",
       "      <th>action</th>\n",
       "    </tr>\n",
       "  </thead>\n",
       "  <tbody>\n",
       "    <tr>\n",
       "      <th>0</th>\n",
       "      <td>35</td>\n",
       "      <td>1</td>\n",
       "      <td>alert</td>\n",
       "    </tr>\n",
       "    <tr>\n",
       "      <th>1</th>\n",
       "      <td>33</td>\n",
       "      <td>1</td>\n",
       "      <td>on</td>\n",
       "    </tr>\n",
       "    <tr>\n",
       "      <th>2</th>\n",
       "      <td>32</td>\n",
       "      <td>1</td>\n",
       "      <td>on</td>\n",
       "    </tr>\n",
       "    <tr>\n",
       "      <th>3</th>\n",
       "      <td>31</td>\n",
       "      <td>1</td>\n",
       "      <td>on</td>\n",
       "    </tr>\n",
       "    <tr>\n",
       "      <th>4</th>\n",
       "      <td>30</td>\n",
       "      <td>1</td>\n",
       "      <td>on</td>\n",
       "    </tr>\n",
       "    <tr>\n",
       "      <th>5</th>\n",
       "      <td>29</td>\n",
       "      <td>1</td>\n",
       "      <td>on</td>\n",
       "    </tr>\n",
       "    <tr>\n",
       "      <th>6</th>\n",
       "      <td>28</td>\n",
       "      <td>1</td>\n",
       "      <td>on</td>\n",
       "    </tr>\n",
       "    <tr>\n",
       "      <th>7</th>\n",
       "      <td>27</td>\n",
       "      <td>1</td>\n",
       "      <td>wait</td>\n",
       "    </tr>\n",
       "    <tr>\n",
       "      <th>8</th>\n",
       "      <td>26</td>\n",
       "      <td>1</td>\n",
       "      <td>wait</td>\n",
       "    </tr>\n",
       "    <tr>\n",
       "      <th>9</th>\n",
       "      <td>22</td>\n",
       "      <td>1</td>\n",
       "      <td>wait</td>\n",
       "    </tr>\n",
       "    <tr>\n",
       "      <th>10</th>\n",
       "      <td>21</td>\n",
       "      <td>1</td>\n",
       "      <td>off</td>\n",
       "    </tr>\n",
       "    <tr>\n",
       "      <th>11</th>\n",
       "      <td>20</td>\n",
       "      <td>1</td>\n",
       "      <td>off</td>\n",
       "    </tr>\n",
       "    <tr>\n",
       "      <th>12</th>\n",
       "      <td>19</td>\n",
       "      <td>1</td>\n",
       "      <td>off</td>\n",
       "    </tr>\n",
       "    <tr>\n",
       "      <th>13</th>\n",
       "      <td>18</td>\n",
       "      <td>1</td>\n",
       "      <td>off</td>\n",
       "    </tr>\n",
       "    <tr>\n",
       "      <th>14</th>\n",
       "      <td>17</td>\n",
       "      <td>1</td>\n",
       "      <td>off</td>\n",
       "    </tr>\n",
       "    <tr>\n",
       "      <th>15</th>\n",
       "      <td>16</td>\n",
       "      <td>1</td>\n",
       "      <td>off</td>\n",
       "    </tr>\n",
       "    <tr>\n",
       "      <th>16</th>\n",
       "      <td>35</td>\n",
       "      <td>0</td>\n",
       "      <td>alert</td>\n",
       "    </tr>\n",
       "    <tr>\n",
       "      <th>17</th>\n",
       "      <td>33</td>\n",
       "      <td>0</td>\n",
       "      <td>on</td>\n",
       "    </tr>\n",
       "    <tr>\n",
       "      <th>18</th>\n",
       "      <td>32</td>\n",
       "      <td>0</td>\n",
       "      <td>on</td>\n",
       "    </tr>\n",
       "    <tr>\n",
       "      <th>19</th>\n",
       "      <td>31</td>\n",
       "      <td>0</td>\n",
       "      <td>on</td>\n",
       "    </tr>\n",
       "    <tr>\n",
       "      <th>20</th>\n",
       "      <td>30</td>\n",
       "      <td>0</td>\n",
       "      <td>on</td>\n",
       "    </tr>\n",
       "    <tr>\n",
       "      <th>21</th>\n",
       "      <td>29</td>\n",
       "      <td>0</td>\n",
       "      <td>on</td>\n",
       "    </tr>\n",
       "    <tr>\n",
       "      <th>22</th>\n",
       "      <td>28</td>\n",
       "      <td>0</td>\n",
       "      <td>on</td>\n",
       "    </tr>\n",
       "    <tr>\n",
       "      <th>23</th>\n",
       "      <td>27</td>\n",
       "      <td>0</td>\n",
       "      <td>on</td>\n",
       "    </tr>\n",
       "    <tr>\n",
       "      <th>24</th>\n",
       "      <td>26</td>\n",
       "      <td>0</td>\n",
       "      <td>on</td>\n",
       "    </tr>\n",
       "    <tr>\n",
       "      <th>25</th>\n",
       "      <td>22</td>\n",
       "      <td>0</td>\n",
       "      <td>wait</td>\n",
       "    </tr>\n",
       "    <tr>\n",
       "      <th>26</th>\n",
       "      <td>21</td>\n",
       "      <td>0</td>\n",
       "      <td>wait</td>\n",
       "    </tr>\n",
       "    <tr>\n",
       "      <th>27</th>\n",
       "      <td>20</td>\n",
       "      <td>0</td>\n",
       "      <td>wait</td>\n",
       "    </tr>\n",
       "    <tr>\n",
       "      <th>28</th>\n",
       "      <td>19</td>\n",
       "      <td>0</td>\n",
       "      <td>wait</td>\n",
       "    </tr>\n",
       "    <tr>\n",
       "      <th>29</th>\n",
       "      <td>18</td>\n",
       "      <td>0</td>\n",
       "      <td>off</td>\n",
       "    </tr>\n",
       "    <tr>\n",
       "      <th>30</th>\n",
       "      <td>17</td>\n",
       "      <td>0</td>\n",
       "      <td>off</td>\n",
       "    </tr>\n",
       "    <tr>\n",
       "      <th>31</th>\n",
       "      <td>16</td>\n",
       "      <td>0</td>\n",
       "      <td>off</td>\n",
       "    </tr>\n",
       "  </tbody>\n",
       "</table>\n",
       "</div>"
      ],
      "text/plain": [
       "    temp  rain action\n",
       "0     35     1  alert\n",
       "1     33     1     on\n",
       "2     32     1     on\n",
       "3     31     1     on\n",
       "4     30     1     on\n",
       "5     29     1     on\n",
       "6     28     1     on\n",
       "7     27     1   wait\n",
       "8     26     1   wait\n",
       "9     22     1   wait\n",
       "10    21     1    off\n",
       "11    20     1    off\n",
       "12    19     1    off\n",
       "13    18     1    off\n",
       "14    17     1    off\n",
       "15    16     1    off\n",
       "16    35     0  alert\n",
       "17    33     0     on\n",
       "18    32     0     on\n",
       "19    31     0     on\n",
       "20    30     0     on\n",
       "21    29     0     on\n",
       "22    28     0     on\n",
       "23    27     0     on\n",
       "24    26     0     on\n",
       "25    22     0   wait\n",
       "26    21     0   wait\n",
       "27    20     0   wait\n",
       "28    19     0   wait\n",
       "29    18     0    off\n",
       "30    17     0    off\n",
       "31    16     0    off"
      ]
     },
     "execution_count": 154,
     "metadata": {},
     "output_type": "execute_result"
    }
   ],
   "source": [
    "import pandas as pd\n",
    "from sklearn.tree import DecisionTreeClassifier\n",
    "\n",
    "df2 = pd.read_csv('AC_action.csv')\n"
   ]
  },
  {
   "cell_type": "code",
   "execution_count": 155,
   "id": "10107d89",
   "metadata": {},
   "outputs": [
    {
     "data": {
      "text/plain": [
       "[['35', '1', 'alert'],\n",
       " ['33', '1', 'on'],\n",
       " ['32', '1', 'on'],\n",
       " ['31', '1', 'on'],\n",
       " ['30', '1', 'on'],\n",
       " ['29', '1', 'on'],\n",
       " ['28', '1', 'on'],\n",
       " ['27', '1', 'wait'],\n",
       " ['26', '1', 'wait'],\n",
       " ['22', '1', 'wait'],\n",
       " ['21', '1', 'off'],\n",
       " ['20', '1', 'off'],\n",
       " ['19', '1', 'off'],\n",
       " ['18', '1', 'off'],\n",
       " ['17', '1', 'off'],\n",
       " ['16', '1', 'off'],\n",
       " ['35', '0', 'alert'],\n",
       " ['33', '0', 'on'],\n",
       " ['32', '0', 'on'],\n",
       " ['31', '0', 'on'],\n",
       " ['30', '0', 'on'],\n",
       " ['29', '0', 'on'],\n",
       " ['28', '0', 'on'],\n",
       " ['27', '0', 'on'],\n",
       " ['26', '0', 'on'],\n",
       " ['22', '0', 'wait'],\n",
       " ['21', '0', 'wait'],\n",
       " ['20', '0', 'wait'],\n",
       " ['19', '0', 'wait'],\n",
       " ['18', '0', 'off'],\n",
       " ['17', '0', 'off'],\n",
       " ['16', '0', 'off']]"
      ]
     },
     "execution_count": 155,
     "metadata": {},
     "output_type": "execute_result"
    }
   ],
   "source": [
    "import csv\n",
    "import numpy as np\n",
    "from sklearn.tree import DecisionTreeClassifier\n",
    "\n",
    "\n",
    "with open('AC_action.csv','r') as f:\n",
    "    reader = csv.reader(f,delimiter = ',')\n",
    "    headers = next(reader)\n",
    "    data = list(reader)\n",
    "\n",
    "data"
   ]
  },
  {
   "cell_type": "code",
   "execution_count": 157,
   "id": "64b692c1",
   "metadata": {},
   "outputs": [
    {
     "ename": "TypeError",
     "evalue": "list indices must be integers or slices, not str",
     "output_type": "error",
     "traceback": [
      "\u001b[0;31m---------------------------------------------------------------------------\u001b[0m",
      "\u001b[0;31mTypeError\u001b[0m                                 Traceback (most recent call last)",
      "\u001b[0;32m/var/folders/5l/z62hr1ps3wv0nnv9clq6xddc0000gn/T/ipykernel_44822/3756496157.py\u001b[0m in \u001b[0;36m<module>\u001b[0;34m\u001b[0m\n\u001b[1;32m      9\u001b[0m     \u001b[0mdata\u001b[0m \u001b[0;34m=\u001b[0m \u001b[0mlist\u001b[0m\u001b[0;34m(\u001b[0m\u001b[0mreader\u001b[0m\u001b[0;34m)\u001b[0m\u001b[0;34m\u001b[0m\u001b[0;34m\u001b[0m\u001b[0m\n\u001b[1;32m     10\u001b[0m \u001b[0;34m\u001b[0m\u001b[0m\n\u001b[0;32m---> 11\u001b[0;31m \u001b[0my\u001b[0m \u001b[0;34m=\u001b[0m \u001b[0mdata\u001b[0m\u001b[0;34m[\u001b[0m\u001b[0;34m'action'\u001b[0m\u001b[0;34m]\u001b[0m\u001b[0;34m\u001b[0m\u001b[0;34m\u001b[0m\u001b[0m\n\u001b[0m",
      "\u001b[0;31mTypeError\u001b[0m: list indices must be integers or slices, not str"
     ]
    }
   ],
   "source": [
    "import csv\n",
    "import numpy as np\n",
    "from sklearn.tree import DecisionTreeClassifier\n",
    "\n",
    "\n",
    "with open('AC_action.csv','r') as f:\n",
    "    reader = csv.reader(f,delimiter = ',')\n",
    "    headers = next(reader)\n",
    "    data = list(reader)\n",
    "\n",
    "y = data['action']"
   ]
  },
  {
   "cell_type": "code",
   "execution_count": 160,
   "id": "7052d06d",
   "metadata": {},
   "outputs": [
    {
     "data": {
      "text/plain": [
       "array(['off'], dtype=object)"
      ]
     },
     "execution_count": 160,
     "metadata": {},
     "output_type": "execute_result"
    }
   ],
   "source": [
    "import pandas as pd\n",
    "from sklearn.tree import DecisionTreeClassifier\n",
    "\n",
    "df2 = pd.read_csv('AC_action.csv')\n",
    "X = df2.drop(columns=['action'])\n",
    "y = df2['action']\n",
    "\n",
    "model = DecisionTreeClassifier()\n",
    "model.fit(X.values, y)\n",
    "\n",
    "decision = model.predict([[21,1]])\n",
    "decision"
   ]
  },
  {
   "cell_type": "code",
   "execution_count": 146,
   "id": "cc894493",
   "metadata": {},
   "outputs": [
    {
     "data": {
      "text/plain": [
       "array(['off'], dtype=object)"
      ]
     },
     "execution_count": 146,
     "metadata": {},
     "output_type": "execute_result"
    }
   ],
   "source": [
    "import pandas as pd\n",
    "from sklearn.tree import DecisionTreeClassifier\n",
    "\n",
    "def AC_control(temp, weather):\n",
    "    try:\n",
    "        temp = float(temp)\n",
    "        weather = int(weather)\n",
    "        if int(weather) == 1 or 0:\n",
    "            df2 = pd.read_csv('AC_action.csv')\n",
    "            X = df2.drop(columns=['action'])\n",
    "            y = df2['action']\n",
    "\n",
    "            model = DecisionTreeClassifier()\n",
    "            model.fit(X.values, y)\n",
    "            decision = model.predict([[temp, weather]])\n",
    "\n",
    "            return decition\n",
    "    except:\n",
    "        return 'Input Error'\n",
    "    \n",
    "AC_control(21, 1)   "
   ]
  },
  {
   "cell_type": "code",
   "execution_count": 138,
   "id": "f28663c6",
   "metadata": {},
   "outputs": [
    {
     "data": {
      "text/plain": [
       "100.0"
      ]
     },
     "execution_count": 138,
     "metadata": {},
     "output_type": "execute_result"
    }
   ],
   "source": [
    "import pandas as pd\n",
    "from sklearn.tree import DecisionTreeClassifier\n",
    "from sklearn.model_selection import train_test_split\n",
    "from sklearn.metrics import accuracy_score\n",
    "\n",
    "df2 = pd.read_csv('AC_action.csv')\n",
    "X = df2.drop(columns=['action'])\n",
    "y = df2['action']\n",
    "X_train, X_test, y_train, y_test = train_test_split(X, y, test_size=0.2)\n",
    "\n",
    "model = DecisionTreeClassifier()\n",
    "model.fit(X_train, y_train)\n",
    "decision = model.predict(X_test)\n",
    "score = accuracy_score(y_test, decition)*100\n",
    "score"
   ]
  },
  {
   "cell_type": "code",
   "execution_count": 144,
   "id": "af826962",
   "metadata": {},
   "outputs": [
    {
     "data": {
      "text/plain": [
       "['AC_decision.joblib']"
      ]
     },
     "execution_count": 144,
     "metadata": {},
     "output_type": "execute_result"
    }
   ],
   "source": [
    "import pandas as pd\n",
    "from sklearn.tree import DecisionTreeClassifier\n",
    "import sklearn.externals\n",
    "import joblib\n",
    "\n",
    "df2 = pd.read_csv('AC_action.csv')\n",
    "X = df2.drop(columns=['action'])\n",
    "y = df2['action']\n",
    "\n",
    "model = DecisionTreeClassifier()\n",
    "model.fit(X.values, y)\n",
    "\n",
    "joblib.dump(model, 'AC_decision.joblib')\n",
    "\n",
    "#decision = model.predict([[21,1]])\n",
    "#decision"
   ]
  },
  {
   "cell_type": "code",
   "execution_count": 162,
   "id": "fd13ed93",
   "metadata": {},
   "outputs": [
    {
     "data": {
      "text/plain": [
       "['BTC_decision.joblib']"
      ]
     },
     "execution_count": 162,
     "metadata": {},
     "output_type": "execute_result"
    }
   ],
   "source": [
    "import pandas as pd\n",
    "from sklearn.tree import DecisionTreeClassifier\n",
    "import sklearn.externals\n",
    "import joblib\n",
    "\n",
    "df2 = pd.read_csv('BTC-USD.csv')\n",
    "X = df2.drop(columns=['Advice'])\n",
    "y = df2['Advice']\n",
    "\n",
    "model = DecisionTreeClassifier()\n",
    "model.fit(X.values, y)\n",
    "\n",
    "joblib.dump(model, 'BTC_decision.joblib')"
   ]
  },
  {
   "cell_type": "code",
   "execution_count": 165,
   "id": "e24457de",
   "metadata": {},
   "outputs": [
    {
     "data": {
      "text/plain": [
       "['ETH_decision.joblib']"
      ]
     },
     "execution_count": 165,
     "metadata": {},
     "output_type": "execute_result"
    }
   ],
   "source": [
    "import pandas as pd\n",
    "from sklearn.tree import DecisionTreeClassifier\n",
    "import sklearn.externals\n",
    "import joblib\n",
    "\n",
    "df2 = pd.read_csv('ETH-USD.csv')\n",
    "X = df2.drop(columns=['Advice'])\n",
    "y = df2['Advice']\n",
    "\n",
    "model = DecisionTreeClassifier()\n",
    "model.fit(X.values, y)\n",
    "\n",
    "joblib.dump(model, 'ETH_decision.joblib')"
   ]
  },
  {
   "cell_type": "code",
   "execution_count": 145,
   "id": "67400fd6",
   "metadata": {},
   "outputs": [
    {
     "data": {
      "text/plain": [
       "array(['off'], dtype=object)"
      ]
     },
     "execution_count": 145,
     "metadata": {},
     "output_type": "execute_result"
    }
   ],
   "source": [
    "import pandas as pd\n",
    "from sklearn.tree import DecisionTreeClassifier\n",
    "import sklearn.externals\n",
    "import joblib\n",
    "\n",
    "#df2 = pd.read_csv('AC_action.csv')\n",
    "#X = df2.drop(columns=['action'])\n",
    "#y = df2['action']\n",
    "\n",
    "#model = DecisionTreeClassifier()\n",
    "#model.fit(X.values, y)\n",
    "\n",
    "model = joblib.load('AC_decision.joblib')\n",
    "decision = model.predict([[21,1]])\n",
    "decision"
   ]
  },
  {
   "cell_type": "code",
   "execution_count": 163,
   "id": "e3ee5749",
   "metadata": {},
   "outputs": [
    {
     "data": {
      "text/plain": [
       "array(['Buy'], dtype=object)"
      ]
     },
     "execution_count": 163,
     "metadata": {},
     "output_type": "execute_result"
    }
   ],
   "source": [
    "import joblib\n",
    "model = joblib.load('BTC_decision.joblib')\n",
    "decision = model.predict([[21,1]])\n",
    "decision"
   ]
  },
  {
   "cell_type": "code",
   "execution_count": 150,
   "id": "f25cfa4e",
   "metadata": {},
   "outputs": [],
   "source": [
    "import pandas as pd\n",
    "from sklearn.tree import DecisionTreeClassifier\n",
    "from sklearn import tree\n",
    "\n",
    "df2 = pd.read_csv('AC_action.csv')\n",
    "X = df2.drop(columns=['action'])\n",
    "y = df2['action']\n",
    "\n",
    "model = DecisionTreeClassifier()\n",
    "model.fit(X.values, y)\n",
    "\n",
    "tree.export_graphviz(model, out_file='AC_decision.dot', \n",
    "                    feature_names=['temp', 'weather'], \n",
    "                    class_names=sorted(y.unique()),\n",
    "                    label='all',\n",
    "                    rounded=True,\n",
    "                    filled=True)\n"
   ]
  }
 ],
 "metadata": {
  "kernelspec": {
   "display_name": "Python 3 (ipykernel)",
   "language": "python",
   "name": "python3"
  },
  "language_info": {
   "codemirror_mode": {
    "name": "ipython",
    "version": 3
   },
   "file_extension": ".py",
   "mimetype": "text/x-python",
   "name": "python",
   "nbconvert_exporter": "python",
   "pygments_lexer": "ipython3",
   "version": "3.9.7"
  }
 },
 "nbformat": 4,
 "nbformat_minor": 5
}
