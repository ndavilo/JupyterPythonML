{
 "cells": [
  {
   "cell_type": "code",
   "execution_count": 11,
   "id": "f1370e11",
   "metadata": {},
   "outputs": [
    {
     "data": {
      "text/plain": [
       "array([[1, 'Wii Sports', 'Wii', ..., 3.77, 8.46, 82.74],\n",
       "       [2, 'Super Mario Bros.', 'NES', ..., 6.81, 0.77, 40.24],\n",
       "       [3, 'Mario Kart Wii', 'Wii', ..., 3.79, 3.31, 35.82],\n",
       "       ...,\n",
       "       [16598, 'SCORE International Baja 1000: The Official Game', 'PS2',\n",
       "        ..., 0.0, 0.0, 0.01],\n",
       "       [16599, 'Know How 2', 'DS', ..., 0.0, 0.0, 0.01],\n",
       "       [16600, 'Spirits & Spells', 'GBA', ..., 0.0, 0.0, 0.01]],\n",
       "      dtype=object)"
      ]
     },
     "execution_count": 11,
     "metadata": {},
     "output_type": "execute_result"
    }
   ],
   "source": [
    "import pandas as pd\n",
    "df = pd.read_csv('vgsales.csv')\n",
    "df.values"
   ]
  },
  {
   "cell_type": "code",
   "execution_count": 10,
   "id": "2c1d87d0",
   "metadata": {},
   "outputs": [
    {
     "data": {
      "text/plain": [
       "array([['Fortran',\n",
       "        'https://upload.wikimedia.org/wikipedia/commons/0/07/Fortran_acs_cover.jpeg',\n",
       "        58.18, ..., nan, nan, nan],\n",
       "       ['COBOL',\n",
       "        'https://i.pinimg.com/originals/59/9c/0e/599c0e80767eb7cc13a987766e22171b.png',\n",
       "        13.5, ..., nan, nan, nan],\n",
       "       ['ALGOL',\n",
       "        'https://s3.amazonaws.com/s3.timetoast.com/public/uploads/photos/4727982/imagesCAA35IWP.jpg',\n",
       "        10.32, ..., nan, nan, nan],\n",
       "       ...,\n",
       "       ['R',\n",
       "        'https://upload.wikimedia.org/wikipedia/commons/thumb/1/1b/R_logo.svg/1200px-R_logo.svg.png',\n",
       "        nan, ..., 4.53, 4.36, 4.36],\n",
       "       ['Swift',\n",
       "        'https://upload.wikimedia.org/wikipedia/commons/thumb/9/9d/Swift_logo.svg/1138px-Swift_logo.svg.png',\n",
       "        nan, ..., 3.83, 3.76, 3.76],\n",
       "       ['Kotlin',\n",
       "        'https://upload.wikimedia.org/wikipedia/commons/thumb/7/74/Kotlin-logo.svg/1200px-Kotlin-logo.svg.png',\n",
       "        nan, ..., nan, 2.64, 2.64]], dtype=object)"
      ]
     },
     "execution_count": 10,
     "metadata": {},
     "output_type": "execute_result"
    }
   ],
   "source": [
    "import pandas as pd\n",
    "df2 = pd.read_csv('Popular Programming Language.csv')\n",
    "df2.values\n"
   ]
  }
 ],
 "metadata": {
  "kernelspec": {
   "display_name": "Python 3 (ipykernel)",
   "language": "python",
   "name": "python3"
  },
  "language_info": {
   "codemirror_mode": {
    "name": "ipython",
    "version": 3
   },
   "file_extension": ".py",
   "mimetype": "text/x-python",
   "name": "python",
   "nbconvert_exporter": "python",
   "pygments_lexer": "ipython3",
   "version": "3.9.7"
  }
 },
 "nbformat": 4,
 "nbformat_minor": 5
}
